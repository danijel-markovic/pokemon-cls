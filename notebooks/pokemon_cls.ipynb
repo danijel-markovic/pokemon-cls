{
 "cells": [
  {
   "cell_type": "markdown",
   "metadata": {},
   "source": [
    "<p align=\"center\">\n",
    "<img src=\"../images/pokemon_world.png\" width=\"1000\" height=\"500\" />\n",
    "</p>"
   ]
  },
  {
   "cell_type": "markdown",
   "metadata": {},
   "source": [
    "\n",
    "Welcome to this notebook, where we embark on an exciting journey to construct a classification model aimed at discerning whether a Pokémon is legendary. Our tools of choice for this mission include:\n",
    "\n",
    "- Pandas: Our trusty companion for data manipulation and loading.\n",
    "- Plotly: An interactive plotting tool that will breathe life into our data visualizations.\n",
    "- Pandas Profiling: A swift and automated approach for exploratory data analysis (EDA).\n",
    "- PyCaret: A low-code machine learning library that simplifies our modeling process.\n",
    "\n",
    "\n",
    "Join us as we delve into the world of Pokémon, leveraging data and machine learning to unravel the mysteries of legendary status!"
   ]
  },
  {
   "cell_type": "markdown",
   "metadata": {},
   "source": [
    "# Import necessary libraries"
   ]
  },
  {
   "cell_type": "code",
   "execution_count": 1,
   "metadata": {},
   "outputs": [
    {
     "ename": "ModuleNotFoundError",
     "evalue": "No module named 'seaborn'",
     "output_type": "error",
     "traceback": [
      "\u001b[0;31m---------------------------------------------------------------------------\u001b[0m",
      "\u001b[0;31mModuleNotFoundError\u001b[0m                       Traceback (most recent call last)",
      "\u001b[1;32m/workspaces/pokemon-cls/notebooks/starter_notebook.ipynb Cell 4\u001b[0m line \u001b[0;36m6\n\u001b[1;32m      <a href='vscode-notebook-cell://dev-container%2B7b22686f737450617468223a22633a5c5c55736572735c5c64616e696a5c5c4f6e6544726976655c5c4465736b746f705c5c706f6b656d6f6e2d636c73222c226c6f63616c446f636b6572223a66616c73652c22636f6e66696746696c65223a7b22246d6964223a312c22667350617468223a22633a5c5c55736572735c5c64616e696a5c5c4f6e6544726976655c5c4465736b746f705c5c706f6b656d6f6e2d636c735c5c2e646576636f6e7461696e65725c5c646576636f6e7461696e65722e6a736f6e222c225f736570223a312c2265787465726e616c223a2266696c653a2f2f2f632533412f55736572732f64616e696a2f4f6e6544726976652f4465736b746f702f706f6b656d6f6e2d636c732f2e646576636f6e7461696e65722f646576636f6e7461696e65722e6a736f6e222c2270617468223a222f633a2f55736572732f64616e696a2f4f6e6544726976652f4465736b746f702f706f6b656d6f6e2d636c732f2e646576636f6e7461696e65722f646576636f6e7461696e65722e6a736f6e222c22736368656d65223a2266696c65227d7d/workspaces/pokemon-cls/notebooks/starter_notebook.ipynb#W3sdnNjb2RlLXJlbW90ZQ%3D%3D?line=3'>4</a>\u001b[0m \u001b[39mimport\u001b[39;00m \u001b[39mplotly\u001b[39;00m\u001b[39m.\u001b[39;00m\u001b[39mexpress\u001b[39;00m \u001b[39mas\u001b[39;00m \u001b[39mpx\u001b[39;00m\n\u001b[1;32m      <a href='vscode-notebook-cell://dev-container%2B7b22686f737450617468223a22633a5c5c55736572735c5c64616e696a5c5c4f6e6544726976655c5c4465736b746f705c5c706f6b656d6f6e2d636c73222c226c6f63616c446f636b6572223a66616c73652c22636f6e66696746696c65223a7b22246d6964223a312c22667350617468223a22633a5c5c55736572735c5c64616e696a5c5c4f6e6544726976655c5c4465736b746f705c5c706f6b656d6f6e2d636c735c5c2e646576636f6e7461696e65725c5c646576636f6e7461696e65722e6a736f6e222c225f736570223a312c2265787465726e616c223a2266696c653a2f2f2f632533412f55736572732f64616e696a2f4f6e6544726976652f4465736b746f702f706f6b656d6f6e2d636c732f2e646576636f6e7461696e65722f646576636f6e7461696e65722e6a736f6e222c2270617468223a222f633a2f55736572732f64616e696a2f4f6e6544726976652f4465736b746f702f706f6b656d6f6e2d636c732f2e646576636f6e7461696e65722f646576636f6e7461696e65722e6a736f6e222c22736368656d65223a2266696c65227d7d/workspaces/pokemon-cls/notebooks/starter_notebook.ipynb#W3sdnNjb2RlLXJlbW90ZQ%3D%3D?line=4'>5</a>\u001b[0m \u001b[39mimport\u001b[39;00m \u001b[39mplotly\u001b[39;00m\u001b[39m.\u001b[39;00m\u001b[39mgraph_objects\u001b[39;00m \u001b[39mas\u001b[39;00m \u001b[39mgo\u001b[39;00m\n\u001b[0;32m----> <a href='vscode-notebook-cell://dev-container%2B7b22686f737450617468223a22633a5c5c55736572735c5c64616e696a5c5c4f6e6544726976655c5c4465736b746f705c5c706f6b656d6f6e2d636c73222c226c6f63616c446f636b6572223a66616c73652c22636f6e66696746696c65223a7b22246d6964223a312c22667350617468223a22633a5c5c55736572735c5c64616e696a5c5c4f6e6544726976655c5c4465736b746f705c5c706f6b656d6f6e2d636c735c5c2e646576636f6e7461696e65725c5c646576636f6e7461696e65722e6a736f6e222c225f736570223a312c2265787465726e616c223a2266696c653a2f2f2f632533412f55736572732f64616e696a2f4f6e6544726976652f4465736b746f702f706f6b656d6f6e2d636c732f2e646576636f6e7461696e65722f646576636f6e7461696e65722e6a736f6e222c2270617468223a222f633a2f55736572732f64616e696a2f4f6e6544726976652f4465736b746f702f706f6b656d6f6e2d636c732f2e646576636f6e7461696e65722f646576636f6e7461696e65722e6a736f6e222c22736368656d65223a2266696c65227d7d/workspaces/pokemon-cls/notebooks/starter_notebook.ipynb#W3sdnNjb2RlLXJlbW90ZQ%3D%3D?line=5'>6</a>\u001b[0m \u001b[39mimport\u001b[39;00m \u001b[39mseaborn\u001b[39;00m \u001b[39mas\u001b[39;00m \u001b[39msns\u001b[39;00m\n\u001b[1;32m      <a href='vscode-notebook-cell://dev-container%2B7b22686f737450617468223a22633a5c5c55736572735c5c64616e696a5c5c4f6e6544726976655c5c4465736b746f705c5c706f6b656d6f6e2d636c73222c226c6f63616c446f636b6572223a66616c73652c22636f6e66696746696c65223a7b22246d6964223a312c22667350617468223a22633a5c5c55736572735c5c64616e696a5c5c4f6e6544726976655c5c4465736b746f705c5c706f6b656d6f6e2d636c735c5c2e646576636f6e7461696e65725c5c646576636f6e7461696e65722e6a736f6e222c225f736570223a312c2265787465726e616c223a2266696c653a2f2f2f632533412f55736572732f64616e696a2f4f6e6544726976652f4465736b746f702f706f6b656d6f6e2d636c732f2e646576636f6e7461696e65722f646576636f6e7461696e65722e6a736f6e222c2270617468223a222f633a2f55736572732f64616e696a2f4f6e6544726976652f4465736b746f702f706f6b656d6f6e2d636c732f2e646576636f6e7461696e65722f646576636f6e7461696e65722e6a736f6e222c22736368656d65223a2266696c65227d7d/workspaces/pokemon-cls/notebooks/starter_notebook.ipynb#W3sdnNjb2RlLXJlbW90ZQ%3D%3D?line=6'>7</a>\u001b[0m \u001b[39mimport\u001b[39;00m \u001b[39mmatplotlib\u001b[39;00m\u001b[39m.\u001b[39;00m\u001b[39mpyplot\u001b[39;00m \u001b[39mas\u001b[39;00m \u001b[39mplt\u001b[39;00m\n\u001b[1;32m      <a href='vscode-notebook-cell://dev-container%2B7b22686f737450617468223a22633a5c5c55736572735c5c64616e696a5c5c4f6e6544726976655c5c4465736b746f705c5c706f6b656d6f6e2d636c73222c226c6f63616c446f636b6572223a66616c73652c22636f6e66696746696c65223a7b22246d6964223a312c22667350617468223a22633a5c5c55736572735c5c64616e696a5c5c4f6e6544726976655c5c4465736b746f705c5c706f6b656d6f6e2d636c735c5c2e646576636f6e7461696e65725c5c646576636f6e7461696e65722e6a736f6e222c225f736570223a312c2265787465726e616c223a2266696c653a2f2f2f632533412f55736572732f64616e696a2f4f6e6544726976652f4465736b746f702f706f6b656d6f6e2d636c732f2e646576636f6e7461696e65722f646576636f6e7461696e65722e6a736f6e222c2270617468223a222f633a2f55736572732f64616e696a2f4f6e6544726976652f4465736b746f702f706f6b656d6f6e2d636c732f2e646576636f6e7461696e65722f646576636f6e7461696e65722e6a736f6e222c22736368656d65223a2266696c65227d7d/workspaces/pokemon-cls/notebooks/starter_notebook.ipynb#W3sdnNjb2RlLXJlbW90ZQ%3D%3D?line=7'>8</a>\u001b[0m \u001b[39mimport\u001b[39;00m \u001b[39mplotly\u001b[39;00m\u001b[39m.\u001b[39;00m\u001b[39mfigure_factory\u001b[39;00m \u001b[39mas\u001b[39;00m \u001b[39mff\u001b[39;00m\n",
      "\u001b[0;31mModuleNotFoundError\u001b[0m: No module named 'seaborn'"
     ]
    }
   ],
   "source": [
    "import pandas as pd\n",
    "import numpy as np\n",
    "\n",
    "import plotly.express as px\n",
    "import plotly.graph_objects as go\n",
    "#import seaborn as sns\n",
    "import matplotlib.pyplot as plt\n",
    "import plotly.figure_factory as ff\n",
    "\n",
    "from ydata_profiling import ProfileReport\n",
    "from pycaret.classification import ClassificationExperiment\n",
    "\n",
    "from pathlib import Path\n"
   ]
  },
  {
   "cell_type": "markdown",
   "metadata": {},
   "source": [
    "# Load data into a pandas dataframe"
   ]
  },
  {
   "cell_type": "code",
   "execution_count": null,
   "metadata": {},
   "outputs": [
    {
     "ename": "",
     "evalue": "",
     "output_type": "error",
     "traceback": [
      "\u001b[1;31mRunning cells with '/usr/local/bin/python' requires the ipykernel package.\n",
      "\u001b[1;31mRun the following command to install 'ipykernel' into the Python environment. \n",
      "\u001b[1;31mCommand: '/usr/local/bin/python -m pip install ipykernel -U --user --force-reinstall'"
     ]
    }
   ],
   "source": [
    "\n",
    "def load_data(filename: str, separator: str = \",\") -> pd.DataFrame:\n",
    "    \"\"\"\n",
    "    Loads data from the given filename in the '../data/' directory into a pandas DataFrame\n",
    "\n",
    "    Args:\n",
    "    filename (str): The name of the dataset file.\n",
    "    separator (str, optional): The separator used in the CSV. Defaults to ','.\n",
    "\n",
    "    Returns:\n",
    "    pd.DataFrame: The loaded data in the form of a DataFrame.\n",
    "    \"\"\"\n",
    "    # Get the current notebook directory\n",
    "    notebook_dir = Path.cwd()\n",
    "    \n",
    "    # Move up one directory to get to the parent directory\n",
    "    parent_dir = notebook_dir.parent\n",
    "    \n",
    "    # Build the full path to the data file\n",
    "    full_path = parent_dir / \"data\" / filename\n",
    "    \n",
    "    try:\n",
    "        dataframe = pd.read_csv(full_path, sep=separator)\n",
    "        return dataframe\n",
    "    except FileNotFoundError:\n",
    "        print(f\"File not found under the following path: {full_path}\")\n",
    "        return None"
   ]
  },
  {
   "cell_type": "code",
   "execution_count": null,
   "metadata": {},
   "outputs": [
    {
     "ename": "",
     "evalue": "",
     "output_type": "error",
     "traceback": [
      "\u001b[1;31mRunning cells with '/usr/local/bin/python' requires the ipykernel package.\n",
      "\u001b[1;31mRun the following command to install 'ipykernel' into the Python environment. \n",
      "\u001b[1;31mCommand: '/usr/local/bin/python -m pip install ipykernel -U --user --force-reinstall'"
     ]
    }
   ],
   "source": [
    "pokemon_df = load_data(filename= \"pokemon.csv\")\n",
    "pokemon_df"
   ]
  },
  {
   "cell_type": "markdown",
   "metadata": {},
   "source": [
    "# Data Analysis"
   ]
  },
  {
   "cell_type": "code",
   "execution_count": null,
   "metadata": {},
   "outputs": [
    {
     "ename": "",
     "evalue": "",
     "output_type": "error",
     "traceback": [
      "\u001b[1;31mRunning cells with '/usr/local/bin/python' requires the ipykernel package.\n",
      "\u001b[1;31mRun the following command to install 'ipykernel' into the Python environment. \n",
      "\u001b[1;31mCommand: '/usr/local/bin/python -m pip install ipykernel -U --user --force-reinstall'"
     ]
    }
   ],
   "source": [
    "def summarize_dataframe(df: pd.DataFrame) -> pd.DataFrame:\n",
    "    \"\"\"\n",
    "    Returns a summary of the DataFrame with column name, data type, and number of missing values.\n",
    "\n",
    "    Args:\n",
    "    df (pd.DataFrame): The DataFrame to summarize.\n",
    "\n",
    "    Returns:\n",
    "    pd.DataFrame: Summary of the input DataFrame.\n",
    "    \"\"\"\n",
    "    summary = [(col, df[col].dtype, df[col].isnull().sum()) for col in df.columns]\n",
    "    summary_df = pd.DataFrame(summary, columns=['Column Name', 'Data Type', 'Number of Missing Values'])\n",
    "    return summary_df"
   ]
  },
  {
   "cell_type": "code",
   "execution_count": null,
   "metadata": {},
   "outputs": [
    {
     "ename": "",
     "evalue": "",
     "output_type": "error",
     "traceback": [
      "\u001b[1;31mRunning cells with '/usr/local/bin/python' requires the ipykernel package.\n",
      "\u001b[1;31mRun the following command to install 'ipykernel' into the Python environment. \n",
      "\u001b[1;31mCommand: '/usr/local/bin/python -m pip install ipykernel -U --user --force-reinstall'"
     ]
    }
   ],
   "source": [
    "summary_df = summarize_dataframe(pokemon_df)\n",
    "summary_df"
   ]
  },
  {
   "cell_type": "markdown",
   "metadata": {},
   "source": [
    "Upon analyzing the dataset, we observe missing values in three columns: Type_2, Pr_Male, and Egg_Group_2. While missing data often requires careful scrutiny, it is essential to understand the context behind such omissions.\n",
    "\n",
    "In many datasets, the absence of values might be indicative of data collection errors or other discrepancies. Under such circumstances, imputation becomes a vital step. Imputation strategies vary based on the nature of the variable:\n",
    "\n",
    "- **Categorical Variables**: Typically, the mode (most frequent category) is used to fill in missing values.\n",
    "\n",
    "- **Numerical Variables**: The mean or median can serve as a replacement, contingent upon the distribution of the data. For more advanced scenarios, leveraging supervised machine learning models to predict and replace missing values based on other column values can be considered.\n",
    "\n",
    "However, in our specific context, these missing values are not arbitrary and are substantiated by domain knowledge:\n",
    "\n",
    "- **Type_2**: Not every Pokémon possesses a secondary type, explaining the missing entries in this column.\n",
    "- **Pr_Male**: Represents the probability of a Pokémon being male. The missing values here are justifiable since certain Pokémon species are gender-neutral.\n",
    "- **Egg_Group_2**: Analogous to the Type_2 column, not all Pokémon belong to a secondary egg group.\n",
    "\n",
    "Given this understanding, our approach to handling these missing values will be dictated by the inherent characteristics of the Pokémon dataset and the domain knowledge we possess."
   ]
  },
  {
   "cell_type": "markdown",
   "metadata": {},
   "source": []
  },
  {
   "cell_type": "code",
   "execution_count": null,
   "metadata": {},
   "outputs": [
    {
     "ename": "",
     "evalue": "",
     "output_type": "error",
     "traceback": [
      "\u001b[1;31mRunning cells with '/usr/local/bin/python' requires the ipykernel package.\n",
      "\u001b[1;31mRun the following command to install 'ipykernel' into the Python environment. \n",
      "\u001b[1;31mCommand: '/usr/local/bin/python -m pip install ipykernel -U --user --force-reinstall'"
     ]
    }
   ],
   "source": [
    "def fill_type_2(df: pd.DataFrame) -> pd.DataFrame:\n",
    "    \"\"\"\n",
    "    Fills missing values in the 'Type_2' column with 'No_Second_Type'.\n",
    "\n",
    "    Args:\n",
    "    df (pd.DataFrame): The input DataFrame.\n",
    "\n",
    "    Returns:\n",
    "    pd.DataFrame: The transformed DataFrame.\n",
    "    \"\"\"\n",
    "    df['Type_2'] = df['Type_2'].fillna('No_Second_Type')\n",
    "    return df\n",
    "\n",
    "def fill_egg_group_2(df: pd.DataFrame) -> pd.DataFrame:\n",
    "    \"\"\"\n",
    "    Fills missing values in the 'Egg_Group_2' column with 'No_Second_Egg_Group'.\n",
    "\n",
    "    Args:\n",
    "    df (pd.DataFrame): The input DataFrame.\n",
    "\n",
    "    Returns:\n",
    "    pd.DataFrame: The transformed DataFrame.\n",
    "    \"\"\"\n",
    "    df['Egg_Group_2'] = df['Egg_Group_2'].fillna('No_Second_Egg_Group')\n",
    "    return df\n",
    "\n",
    "def fill_pr_male(df: pd.DataFrame) -> pd.DataFrame:\n",
    "    \"\"\"\n",
    "    Fills missing values in the 'Pr_Male' column with -1.\n",
    "\n",
    "    Args:\n",
    "    df (pd.DataFrame): The input DataFrame.\n",
    "\n",
    "    Returns:\n",
    "    pd.DataFrame: The transformed DataFrame.\n",
    "    \"\"\"\n",
    "    df['Pr_Male'] = df['Pr_Male'].fillna(-1)\n",
    "    return df\n",
    "\n",
    "def transformation_pipeline(df: pd.DataFrame, functions: list) -> pd.DataFrame:\n",
    "    \"\"\"\n",
    "    Applies a series of transformation functions to the input DataFrame.\n",
    "\n",
    "    Args:\n",
    "    df (pd.DataFrame): The input DataFrame.\n",
    "    functions (list): List of transformation functions to be applied.\n",
    "\n",
    "    Returns:\n",
    "    pd.DataFrame: The transformed DataFrame.\n",
    "    \"\"\"\n",
    "    df_copy = df.copy()\n",
    "    for func in functions:\n",
    "        df_copy = func(df_copy)\n",
    "    return df_copy"
   ]
  },
  {
   "cell_type": "code",
   "execution_count": null,
   "metadata": {},
   "outputs": [
    {
     "ename": "",
     "evalue": "",
     "output_type": "error",
     "traceback": [
      "\u001b[1;31mRunning cells with '/usr/local/bin/python' requires the ipykernel package.\n",
      "\u001b[1;31mRun the following command to install 'ipykernel' into the Python environment. \n",
      "\u001b[1;31mCommand: '/usr/local/bin/python -m pip install ipykernel -U --user --force-reinstall'"
     ]
    }
   ],
   "source": [
    "transformed_pokemon_df = transformation_pipeline(pokemon_df, [fill_type_2, fill_egg_group_2, fill_pr_male])\n"
   ]
  },
  {
   "cell_type": "code",
   "execution_count": null,
   "metadata": {},
   "outputs": [
    {
     "ename": "",
     "evalue": "",
     "output_type": "error",
     "traceback": [
      "\u001b[1;31mRunning cells with '/usr/local/bin/python' requires the ipykernel package.\n",
      "\u001b[1;31mRun the following command to install 'ipykernel' into the Python environment. \n",
      "\u001b[1;31mCommand: '/usr/local/bin/python -m pip install ipykernel -U --user --force-reinstall'"
     ]
    }
   ],
   "source": [
    "summary_transformed_df = summarize_dataframe(transformed_pokemon_df)\n",
    "summary_transformed_df"
   ]
  },
  {
   "cell_type": "markdown",
   "metadata": {},
   "source": [
    "Once we replaced the missing values, we can start our exploratory data anaylsis. For that we are going to use Pandas Profiling."
   ]
  },
  {
   "cell_type": "code",
   "execution_count": null,
   "metadata": {},
   "outputs": [
    {
     "ename": "",
     "evalue": "",
     "output_type": "error",
     "traceback": [
      "\u001b[1;31mRunning cells with '/usr/local/bin/python' requires the ipykernel package.\n",
      "\u001b[1;31mRun the following command to install 'ipykernel' into the Python environment. \n",
      "\u001b[1;31mCommand: '/usr/local/bin/python -m pip install ipykernel -U --user --force-reinstall'"
     ]
    }
   ],
   "source": [
    "profile = ProfileReport(transformed_pokemon_df, title=\"Profiling Report\")\n",
    "profile.to_notebook_iframe()"
   ]
  },
  {
   "cell_type": "code",
   "execution_count": null,
   "metadata": {},
   "outputs": [
    {
     "ename": "",
     "evalue": "",
     "output_type": "error",
     "traceback": [
      "\u001b[1;31mRunning cells with '/usr/local/bin/python' requires the ipykernel package.\n",
      "\u001b[1;31mRun the following command to install 'ipykernel' into the Python environment. \n",
      "\u001b[1;31mCommand: '/usr/local/bin/python -m pip install ipykernel -U --user --force-reinstall'"
     ]
    }
   ],
   "source": [
    "def plot_correlation_heatmap(df: pd.DataFrame):\n",
    "    \"\"\"\n",
    "    Plots a correlation heatmap for the features in the input DataFrame using Plotly.\n",
    "\n",
    "    Args:\n",
    "    df (pd.DataFrame): The input DataFrame.\n",
    "    \"\"\"\n",
    "    # Calculate the correlation matrix\n",
    "    correlation = df.corr()\n",
    "    \n",
    "    # Create the heatmap using Plotly\n",
    "    heatmap = ff.create_annotated_heatmap(\n",
    "        z=correlation.values,\n",
    "        x=list(correlation.columns),\n",
    "        y=list(correlation.index),\n",
    "        annotation_text=correlation.round(2).values,\n",
    "        showscale=True,\n",
    "        colorscale='Viridis'\n",
    "    )\n",
    "    \n",
    "    # Update layout for better visualization\n",
    "    heatmap.layout.update({\n",
    "        'title': 'Features Correlation Heatmap',\n",
    "        'xaxis': {'side': 'bottom'}\n",
    "    })\n",
    "    \n",
    "    heatmap.show()"
   ]
  },
  {
   "cell_type": "code",
   "execution_count": null,
   "metadata": {},
   "outputs": [
    {
     "ename": "",
     "evalue": "",
     "output_type": "error",
     "traceback": [
      "\u001b[1;31mRunning cells with '/usr/local/bin/python' requires the ipykernel package.\n",
      "\u001b[1;31mRun the following command to install 'ipykernel' into the Python environment. \n",
      "\u001b[1;31mCommand: '/usr/local/bin/python -m pip install ipykernel -U --user --force-reinstall'"
     ]
    }
   ],
   "source": [
    "plot_correlation_heatmap(transformed_pokemon_df)"
   ]
  },
  {
   "cell_type": "markdown",
   "metadata": {},
   "source": [
    "Since in the task description a high enphasis was put on the type of pokemons, I have generated couple of nice graphs. "
   ]
  },
  {
   "cell_type": "code",
   "execution_count": null,
   "metadata": {},
   "outputs": [
    {
     "ename": "",
     "evalue": "",
     "output_type": "error",
     "traceback": [
      "\u001b[1;31mRunning cells with '/usr/local/bin/python' requires the ipykernel package.\n",
      "\u001b[1;31mRun the following command to install 'ipykernel' into the Python environment. \n",
      "\u001b[1;31mCommand: '/usr/local/bin/python -m pip install ipykernel -U --user --force-reinstall'"
     ]
    }
   ],
   "source": [
    "def single_type_histogram(pokemon_df: pd.DataFrame):\n",
    "    \"\"\"\n",
    "    Generates a histogram for Pokémon with a single type.\n",
    "\n",
    "    Args:\n",
    "    pokemon_df (pd.DataFrame): The input DataFrame containing Pokémon data.\n",
    "\n",
    "    Returns:\n",
    "    px.Figure: Figure object for the histogram.\n",
    "    \"\"\"\n",
    "    \n",
    "    single_type_df = pokemon_df[pokemon_df['Type_2'].isnull()]\n",
    "\n",
    "    # Order by count and get top 3 types\n",
    "    ordered_types = single_type_df['Type_1'].value_counts().index.tolist()\n",
    "    top_3_types = ordered_types[:3]\n",
    "\n",
    "    # Determine colors for bars\n",
    "    colors = [px.colors.qualitative.Plotly[i] if t in top_3_types else 'lightgray' for i, t in enumerate(ordered_types)]\n",
    "\n",
    "    # Plot for single type Pokémon\n",
    "    fig_single_type = px.histogram(single_type_df, x='Type_1', title=\"Distribution of Pokémon with Single Type\", \n",
    "                                category_orders={'Type_1': ordered_types}, color='Type_1',\n",
    "                                color_discrete_sequence=colors)\n",
    "    return fig_single_type"
   ]
  },
  {
   "cell_type": "code",
   "execution_count": null,
   "metadata": {},
   "outputs": [
    {
     "ename": "",
     "evalue": "",
     "output_type": "error",
     "traceback": [
      "\u001b[1;31mRunning cells with '/usr/local/bin/python' requires the ipykernel package.\n",
      "\u001b[1;31mRun the following command to install 'ipykernel' into the Python environment. \n",
      "\u001b[1;31mCommand: '/usr/local/bin/python -m pip install ipykernel -U --user --force-reinstall'"
     ]
    }
   ],
   "source": [
    "fig_single_type= single_type_histogram(pokemon_df)\n",
    "fig_single_type.show()"
   ]
  },
  {
   "cell_type": "code",
   "execution_count": null,
   "metadata": {},
   "outputs": [
    {
     "ename": "",
     "evalue": "",
     "output_type": "error",
     "traceback": [
      "\u001b[1;31mRunning cells with '/usr/local/bin/python' requires the ipykernel package.\n",
      "\u001b[1;31mRun the following command to install 'ipykernel' into the Python environment. \n",
      "\u001b[1;31mCommand: '/usr/local/bin/python -m pip install ipykernel -U --user --force-reinstall'"
     ]
    }
   ],
   "source": [
    "\n",
    "\n",
    "def both_types_histogram(pokemon_df: pd.DataFrame):\n",
    "    \"\"\"\n",
    "    Generates a histogram for Pokémon with both types.\n",
    "\n",
    "    Args:\n",
    "    pokemon_df (pd.DataFrame): The input DataFrame containing Pokémon data.\n",
    "\n",
    "    Returns:\n",
    "    px.Figure: Figure object for the histogram.\n",
    "    \"\"\"\n",
    "    \n",
    "    pokemon_df['Both_Types'] = pokemon_df.apply(lambda row: f\"{row['Type_1']}/{row['Type_2']}\" if pd.notnull(row['Type_2']) else None, axis=1)\n",
    "    both_types_df = pokemon_df[pokemon_df['Both_Types'].notnull()]\n",
    "    ordered_combinations = both_types_df['Both_Types'].value_counts().index.tolist()\n",
    "    top_3_combinations = ordered_combinations[:3]\n",
    "    colors = [px.colors.qualitative.Plotly[i] if t in top_3_combinations else 'lightgray' for i, t in enumerate(ordered_combinations)]\n",
    "    \n",
    "    fig = px.histogram(both_types_df, x='Both_Types', title=\"Distribution of Pokémon with Both Types\", \n",
    "                       category_orders={'Both_Types': ordered_combinations}, color='Both_Types', color_discrete_sequence=colors)\n",
    "    return fig"
   ]
  },
  {
   "cell_type": "code",
   "execution_count": null,
   "metadata": {},
   "outputs": [
    {
     "ename": "",
     "evalue": "",
     "output_type": "error",
     "traceback": [
      "\u001b[1;31mRunning cells with '/usr/local/bin/python' requires the ipykernel package.\n",
      "\u001b[1;31mRun the following command to install 'ipykernel' into the Python environment. \n",
      "\u001b[1;31mCommand: '/usr/local/bin/python -m pip install ipykernel -U --user --force-reinstall'"
     ]
    }
   ],
   "source": [
    "fig_single_type = both_types_histogram(pokemon_df)\n",
    "fig_single_type.show()"
   ]
  },
  {
   "cell_type": "code",
   "execution_count": null,
   "metadata": {},
   "outputs": [
    {
     "ename": "",
     "evalue": "",
     "output_type": "error",
     "traceback": [
      "\u001b[1;31mRunning cells with '/usr/local/bin/python' requires the ipykernel package.\n",
      "\u001b[1;31mRun the following command to install 'ipykernel' into the Python environment. \n",
      "\u001b[1;31mCommand: '/usr/local/bin/python -m pip install ipykernel -U --user --force-reinstall'"
     ]
    }
   ],
   "source": [
    "def plot_avg_strength_radar(df: pd.DataFrame, stats: list) -> None:\n",
    "    \"\"\"\n",
    "    Plots a radar chart comparing the average stats of legendary and non-legendary Pokémon.\n",
    "\n",
    "    Args:\n",
    "    df (pd.DataFrame): The input DataFrame containing Pokémon data.\n",
    "    stats (list): The list of stats to be compared.\n",
    "\n",
    "    Returns:\n",
    "    None\n",
    "    \"\"\"\n",
    "\n",
    "    # Ensure 'isLegendary' column is Boolean for accurate filtering\n",
    "    df['isLegendary'] = df['isLegendary'].astype(bool)\n",
    "\n",
    "    # Calculate the average strength of legendary and non-legendary Pokémon\n",
    "    avg_legendary = df[df['isLegendary'] == True][stats].mean()\n",
    "    avg_non_legendary = df[df['isLegendary'] == False][stats].mean()\n",
    "\n",
    "    # Plot the average strengths on a radar chart\n",
    "    fig_leg = go.Figure()\n",
    "\n",
    "    # Add trace for Legendary Pokémon\n",
    "    fig_leg.add_trace(go.Scatterpolar(\n",
    "        r=avg_legendary.values.tolist(),\n",
    "        theta=stats,\n",
    "        fill='toself',\n",
    "        name='Legendary',\n",
    "        textfont=dict(color=\"black\"),\n",
    "        line=dict(color='blue'),\n",
    "    ))\n",
    "\n",
    "    # Add trace for Non-Legendary Pokémon\n",
    "    fig_leg.add_trace(go.Scatterpolar(\n",
    "        r=avg_non_legendary.values.tolist(),\n",
    "        theta=stats,\n",
    "        fill='toself',\n",
    "        name='Non-Legendary',\n",
    "        textfont=dict(color=\"black\"),\n",
    "        line=dict(color='red'),\n",
    "    ))\n",
    "\n",
    "    # Update layout for better visualization\n",
    "    fig_leg.update_layout(\n",
    "        polar=dict(radialaxis=dict(visible=True)),\n",
    "        title='Average Strength of Legendary vs. Non-Legendary Pokémon',\n",
    "        showlegend=True\n",
    "    )\n",
    "    \n",
    "    fig_leg.show()\n",
    "\n",
    "# Usage\n",
    "stats = ['HP', 'Attack', 'Defense', 'Sp_Atk', 'Sp_Def', 'Speed']\n",
    "plot_avg_strength_radar(pokemon_df, stats)"
   ]
  },
  {
   "cell_type": "code",
   "execution_count": null,
   "metadata": {},
   "outputs": [
    {
     "ename": "",
     "evalue": "",
     "output_type": "error",
     "traceback": [
      "\u001b[1;31mRunning cells with '/usr/local/bin/python' requires the ipykernel package.\n",
      "\u001b[1;31mRun the following command to install 'ipykernel' into the Python environment. \n",
      "\u001b[1;31mCommand: '/usr/local/bin/python -m pip install ipykernel -U --user --force-reinstall'"
     ]
    }
   ],
   "source": [
    "def plot_strongest_legendaries(df: pd.DataFrame, stats: list) -> None:\n",
    "    \"\"\"\n",
    "    Plots a radar chart comparing the stats of the three strongest legendary Pokémon.\n",
    "\n",
    "    Args:\n",
    "    df (pd.DataFrame): The input DataFrame containing Pokémon data.\n",
    "    stats (list): The list of stats to be compared.\n",
    "\n",
    "    Returns:\n",
    "    None\n",
    "    \"\"\"\n",
    "\n",
    "    # Ensure 'isLegendary' column is Boolean for accurate filtering\n",
    "    df['isLegendary'] = df['isLegendary'].astype(bool)\n",
    "\n",
    "    # Filter only legendary Pokémon\n",
    "    legendary_df = df[df['isLegendary']]\n",
    "\n",
    "    # Calculate total stats for each Pokémon\n",
    "    legendary_df['Total_Stats'] = legendary_df[stats].sum(axis=1)\n",
    "\n",
    "    # Sort the legendary Pokémon by total stats in descending order and take the top 3\n",
    "    strongest_legendaries = legendary_df.sort_values(by='Total_Stats', ascending=False).head(3)\n",
    "\n",
    "    # Plot the stats on a radar chart\n",
    "    fig_leg = go.Figure()\n",
    "\n",
    "    # Add a trace for each of the strongest legendary Pokémon\n",
    "    for index, row in strongest_legendaries.iterrows():\n",
    "        fig_leg.add_trace(go.Scatterpolar(\n",
    "            r=row[stats].values.tolist(),\n",
    "            theta=stats,\n",
    "            fill='toself',\n",
    "            name=row['Name'],\n",
    "            text=[f'{stat}: {value}' for stat, value in zip(stats, row[stats].values.tolist())],\n",
    "            hoverinfo='text'\n",
    "        ))\n",
    "\n",
    "    # Update layout for better visualization\n",
    "    fig_leg.update_layout(\n",
    "        polar=dict(radialaxis=dict(visible=True)),\n",
    "        title='Stats of the Three Strongest Legendary Pokémon',\n",
    "        showlegend=True\n",
    "    )\n",
    "    \n",
    "    fig_leg.show()"
   ]
  },
  {
   "cell_type": "code",
   "execution_count": null,
   "metadata": {},
   "outputs": [
    {
     "ename": "",
     "evalue": "",
     "output_type": "error",
     "traceback": [
      "\u001b[1;31mRunning cells with '/usr/local/bin/python' requires the ipykernel package.\n",
      "\u001b[1;31mRun the following command to install 'ipykernel' into the Python environment. \n",
      "\u001b[1;31mCommand: '/usr/local/bin/python -m pip install ipykernel -U --user --force-reinstall'"
     ]
    }
   ],
   "source": [
    "stats = ['HP', 'Attack', 'Defense', 'Sp_Atk', 'Sp_Def', 'Speed']\n",
    "plot_strongest_legendaries(pokemon_df, stats)"
   ]
  },
  {
   "cell_type": "markdown",
   "metadata": {},
   "source": [
    "# Train legendary classifier using PyCaret"
   ]
  },
  {
   "cell_type": "code",
   "execution_count": null,
   "metadata": {},
   "outputs": [
    {
     "ename": "",
     "evalue": "",
     "output_type": "error",
     "traceback": [
      "\u001b[1;31mRunning cells with '/usr/local/bin/python' requires the ipykernel package.\n",
      "\u001b[1;31mRun the following command to install 'ipykernel' into the Python environment. \n",
      "\u001b[1;31mCommand: '/usr/local/bin/python -m pip install ipykernel -U --user --force-reinstall'"
     ]
    }
   ],
   "source": [
    "cls_exp = ClassificationExperiment() # we first create an instance of the classification experiment class"
   ]
  },
  {
   "cell_type": "code",
   "execution_count": null,
   "metadata": {},
   "outputs": [
    {
     "ename": "",
     "evalue": "",
     "output_type": "error",
     "traceback": [
      "\u001b[1;31mRunning cells with '/usr/local/bin/python' requires the ipykernel package.\n",
      "\u001b[1;31mRun the following command to install 'ipykernel' into the Python environment. \n",
      "\u001b[1;31mCommand: '/usr/local/bin/python -m pip install ipykernel -U --user --force-reinstall'"
     ]
    }
   ],
   "source": [
    "cls_exp.setup(transformed_pokemon_df, target = 'isLegendary',ignore_features =['Name', 'color', 'Number', 'hasGender'], session_id = 123,  fix_imbalance= True)"
   ]
  },
  {
   "cell_type": "code",
   "execution_count": null,
   "metadata": {},
   "outputs": [
    {
     "ename": "",
     "evalue": "",
     "output_type": "error",
     "traceback": [
      "\u001b[1;31mRunning cells with '/usr/local/bin/python' requires the ipykernel package.\n",
      "\u001b[1;31mRun the following command to install 'ipykernel' into the Python environment. \n",
      "\u001b[1;31mCommand: '/usr/local/bin/python -m pip install ipykernel -U --user --force-reinstall'"
     ]
    }
   ],
   "source": [
    "best_model = cls_exp.compare_models(turbo=True)"
   ]
  },
  {
   "cell_type": "code",
   "execution_count": null,
   "metadata": {},
   "outputs": [
    {
     "ename": "",
     "evalue": "",
     "output_type": "error",
     "traceback": [
      "\u001b[1;31mRunning cells with '/usr/local/bin/python' requires the ipykernel package.\n",
      "\u001b[1;31mRun the following command to install 'ipykernel' into the Python environment. \n",
      "\u001b[1;31mCommand: '/usr/local/bin/python -m pip install ipykernel -U --user --force-reinstall'"
     ]
    }
   ],
   "source": [
    "print(best_model)"
   ]
  },
  {
   "cell_type": "code",
   "execution_count": null,
   "metadata": {},
   "outputs": [
    {
     "ename": "",
     "evalue": "",
     "output_type": "error",
     "traceback": [
      "\u001b[1;31mRunning cells with '/usr/local/bin/python' requires the ipykernel package.\n",
      "\u001b[1;31mRun the following command to install 'ipykernel' into the Python environment. \n",
      "\u001b[1;31mCommand: '/usr/local/bin/python -m pip install ipykernel -U --user --force-reinstall'"
     ]
    }
   ],
   "source": [
    "# Plot the confusion matrix\n",
    "cls_exp.plot_model(best_model, plot = 'confusion_matrix')"
   ]
  },
  {
   "cell_type": "markdown",
   "metadata": {},
   "source": [
    "Our model demonstrates a high degree of accuracy in identifying legendary Pokémon, with only three instances of misclassification where non-legendary Pokémon were incorrectly identified as legendary.\n",
    "\n",
    "Importantly, there were no occurrences where legendary Pokémon were misidentified as non-legendary. This distinction is critical given the objective of our task: to prioritize the capture of legendary Pokémon due to their superior strength and rarity. \n",
    "\n",
    "The model's current configuration is favorable as it errs on the side of over-identification rather than under-identification of legendary Pokémon, thus reducing the likelihood of missing an opportunity to capture a legendary Pokémon."
   ]
  },
  {
   "cell_type": "code",
   "execution_count": null,
   "metadata": {},
   "outputs": [
    {
     "ename": "",
     "evalue": "",
     "output_type": "error",
     "traceback": [
      "\u001b[1;31mRunning cells with '/usr/local/bin/python' requires the ipykernel package.\n",
      "\u001b[1;31mRun the following command to install 'ipykernel' into the Python environment. \n",
      "\u001b[1;31mCommand: '/usr/local/bin/python -m pip install ipykernel -U --user --force-reinstall'"
     ]
    }
   ],
   "source": [
    "cls_exp.plot_model(best_model, plot = 'feature')"
   ]
  },
  {
   "cell_type": "markdown",
   "metadata": {},
   "source": [
    "# Fine-tuning"
   ]
  },
  {
   "cell_type": "markdown",
   "metadata": {},
   "source": [
    "Eventhough the model is really good, we can try to improve it even further by fine-tuning it."
   ]
  },
  {
   "cell_type": "code",
   "execution_count": null,
   "metadata": {},
   "outputs": [
    {
     "ename": "",
     "evalue": "",
     "output_type": "error",
     "traceback": [
      "\u001b[1;31mRunning cells with '/usr/local/bin/python' requires the ipykernel package.\n",
      "\u001b[1;31mRun the following command to install 'ipykernel' into the Python environment. \n",
      "\u001b[1;31mCommand: '/usr/local/bin/python -m pip install ipykernel -U --user --force-reinstall'"
     ]
    }
   ],
   "source": [
    "tuned_best_model = cls_exp.tune_model(best_model, optimize=\"F1\",n_iter=10)"
   ]
  },
  {
   "cell_type": "markdown",
   "metadata": {},
   "source": [
    "# Misclassified Legendaries"
   ]
  },
  {
   "cell_type": "code",
   "execution_count": null,
   "metadata": {},
   "outputs": [
    {
     "ename": "",
     "evalue": "",
     "output_type": "error",
     "traceback": [
      "\u001b[1;31mRunning cells with '/usr/local/bin/python' requires the ipykernel package.\n",
      "\u001b[1;31mRun the following command to install 'ipykernel' into the Python environment. \n",
      "\u001b[1;31mCommand: '/usr/local/bin/python -m pip install ipykernel -U --user --force-reinstall'"
     ]
    }
   ],
   "source": [
    "def misclassified_legendaries(trained_model, df: pd.DataFrame, legendary_status: bool, predicted_status: bool) -> pd.DataFrame:\n",
    "    \"\"\"\n",
    "    Identifies misclassified Pokémon based on their legendary status and predicted status, using a trained model.\n",
    "    Returns a DataFrame of misclassified Pokémon.\n",
    "\n",
    "    Args:\n",
    "    trained_model: The trained PyCaret model.\n",
    "    df (pd.DataFrame): The input DataFrame containing Pokémon data.\n",
    "    legendary_status (bool): The actual legendary status to filter misclassified Pokémon.\n",
    "                             - True: to filter Pokémon that are legendary.\n",
    "                             - False: to filter Pokémon that are not legendary.\n",
    "    predicted_status (bool): The predicted legendary status to filter misclassified Pokémon.\n",
    "                             - True: to filter Pokémon predicted as legendary.\n",
    "                             - False: to filter Pokémon predicted as non-legendary.\n",
    "\n",
    "    Returns:\n",
    "    pd.DataFrame: The DataFrame of misclassified Pokémon.\n",
    "    \"\"\"\n",
    "    # Create a copy of the DataFrame to ensure the original DataFrame remains unchanged\n",
    "    new_data = df.copy()\n",
    "    \n",
    "    # Drop the 'isLegendary' column from the DataFrame copy\n",
    "    new_data.drop('isLegendary', axis=1, inplace=True)\n",
    "    \n",
    "    # Use the trained model to make predictions on the DataFrame copy\n",
    "    predictions = cls_exp.predict_model(trained_model, data=new_data)\n",
    "    \n",
    "    # Add a new column 'predictions' to the original DataFrame, containing the prediction labels\n",
    "    df['predictions'] = predictions['prediction_label'].values\n",
    "    \n",
    "    # Filter and return the DataFrame based on the legendary_status and predicted_status arguments\n",
    "    misclassified = df[(df[\"isLegendary\"] == legendary_status) & (df[\"predictions\"] == predicted_status)]\n",
    "    \n",
    "    return misclassified"
   ]
  },
  {
   "cell_type": "code",
   "execution_count": null,
   "metadata": {},
   "outputs": [
    {
     "ename": "",
     "evalue": "",
     "output_type": "error",
     "traceback": [
      "\u001b[1;31mRunning cells with '/usr/local/bin/python' requires the ipykernel package.\n",
      "\u001b[1;31mRun the following command to install 'ipykernel' into the Python environment. \n",
      "\u001b[1;31mCommand: '/usr/local/bin/python -m pip install ipykernel -U --user --force-reinstall'"
     ]
    }
   ],
   "source": [
    "misclassified_legendaries(best_model,transformed_pokemon_df, legendary_status=False, predicted_status=True )"
   ]
  },
  {
   "cell_type": "code",
   "execution_count": null,
   "metadata": {},
   "outputs": [
    {
     "ename": "",
     "evalue": "",
     "output_type": "error",
     "traceback": [
      "\u001b[1;31mRunning cells with '/usr/local/bin/python' requires the ipykernel package.\n",
      "\u001b[1;31mRun the following command to install 'ipykernel' into the Python environment. \n",
      "\u001b[1;31mCommand: '/usr/local/bin/python -m pip install ipykernel -U --user --force-reinstall'"
     ]
    }
   ],
   "source": [
    "cls_exp.save_model(best_model, 'pokemon_classifier',)"
   ]
  },
  {
   "cell_type": "code",
   "execution_count": null,
   "metadata": {},
   "outputs": [
    {
     "ename": "",
     "evalue": "",
     "output_type": "error",
     "traceback": [
      "\u001b[1;31mRunning cells with '/usr/local/bin/python' requires the ipykernel package.\n",
      "\u001b[1;31mRun the following command to install 'ipykernel' into the Python environment. \n",
      "\u001b[1;31mCommand: '/usr/local/bin/python -m pip install ipykernel -U --user --force-reinstall'"
     ]
    }
   ],
   "source": []
  }
 ],
 "metadata": {
  "kernelspec": {
   "display_name": "Python 3",
   "language": "python",
   "name": "python3"
  },
  "language_info": {
   "codemirror_mode": {
    "name": "ipython",
    "version": 3
   },
   "file_extension": ".py",
   "mimetype": "text/x-python",
   "name": "python",
   "nbconvert_exporter": "python",
   "pygments_lexer": "ipython3",
   "version": "3.10.13"
  }
 },
 "nbformat": 4,
 "nbformat_minor": 2
}
